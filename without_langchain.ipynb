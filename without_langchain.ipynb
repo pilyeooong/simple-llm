{
 "cells": [
  {
   "metadata": {},
   "cell_type": "markdown",
   "source": "# read docs",
   "id": "117bca61fbf39d68"
  },
  {
   "metadata": {},
   "cell_type": "code",
   "source": "# 1. 문서 읽기",
   "id": "6d58507d20b12826",
   "outputs": [],
   "execution_count": null
  },
  {
   "metadata": {},
   "cell_type": "code",
   "source": "%pip install python-docx",
   "id": "82820a900d1a158b",
   "outputs": [],
   "execution_count": null
  },
  {
   "metadata": {},
   "cell_type": "code",
   "source": [
    "from docx import Document\n",
    "\n",
    "document = Document('./tax.docx')\n",
    "print(f'document: {dir(document)}')\n",
    "full_text = ''\n",
    "for idx, paragraph in enumerate(document.paragraphs):\n",
    "    full_text += f'{paragraph.text}\\n'"
   ],
   "id": "80e207f9c4d85936",
   "outputs": [],
   "execution_count": null
  },
  {
   "metadata": {},
   "cell_type": "code",
   "source": "# 2. 문서 쪼개기",
   "id": "98ee3fcecc2bc7cb",
   "outputs": [],
   "execution_count": null
  },
  {
   "metadata": {},
   "cell_type": "code",
   "source": "%pip install tiktoken",
   "id": "bc5c116be712935d",
   "outputs": [],
   "execution_count": null
  },
  {
   "metadata": {},
   "cell_type": "code",
   "source": [
    "import tiktoken\n",
    "\n",
    "def split_text(full_text, chunk_size):\n",
    "    encoder = tiktoken.encoding_for_model('gpt-4o')\n",
    "    total_encoding = encoder.encode(full_text)\n",
    "    total_token_count = len(total_encoding)\n",
    "    text_list = []\n",
    "    \n",
    "    for i in range(0, total_token_count, chunk_size):\n",
    "        chunk = total_encoding[i: i + chunk_size]\n",
    "        decoded = encoder.decode(chunk)\n",
    "        text_list.append(decoded)\n",
    "        \n",
    "    return text_list\n",
    "    "
   ],
   "id": "6707d6c947ebb2f8",
   "outputs": [],
   "execution_count": null
  },
  {
   "metadata": {},
   "cell_type": "code",
   "source": [
    "chunk_list = split_text(full_text, 1500)\n",
    "len(chunk_list)"
   ],
   "id": "597fbe02e60977cc",
   "outputs": [],
   "execution_count": null
  },
  {
   "metadata": {},
   "cell_type": "code",
   "source": "# 3. 임베딩",
   "id": "655631f1cc2853bf",
   "outputs": [],
   "execution_count": null
  },
  {
   "metadata": {},
   "cell_type": "code",
   "source": "%pip install chromadb",
   "id": "74039229a3244378",
   "outputs": [],
   "execution_count": null
  },
  {
   "metadata": {},
   "cell_type": "code",
   "source": [
    "import chromadb\n",
    "\n",
    "chroma_client = chromadb.Client()"
   ],
   "id": "b45cee2dcfd30051",
   "outputs": [],
   "execution_count": null
  },
  {
   "metadata": {},
   "cell_type": "code",
   "source": [
    "collection_name = 'tax_collection'\n",
    "tax_collection = chroma_client.create_collection(collection_name)"
   ],
   "id": "3198f21007ea2b60",
   "outputs": [],
   "execution_count": null
  },
  {
   "metadata": {},
   "cell_type": "code",
   "source": [
    "import os\n",
    "from dotenv import load_dotenv\n",
    "from chromadb.utils.embedding_functions import OpenAIEmbeddingFunction\n",
    "\n",
    "load_dotenv()\n",
    "openai_api_key = os.getenv('OPENAI_API_KEY')\n",
    "openai_embedding = OpenAIEmbeddingFunction(model_name='text-embedding-3-large', api_key=openai_api_key)"
   ],
   "id": "451748ac765fe894",
   "outputs": [],
   "execution_count": null
  },
  {
   "metadata": {},
   "cell_type": "code",
   "source": "tax_collection = chroma_client.get_or_create_collection(collection_name, embedding_function=openai_embedding)",
   "id": "c6a4402968c03002",
   "outputs": [],
   "execution_count": null
  },
  {
   "metadata": {},
   "cell_type": "code",
   "source": [
    "ids = []\n",
    "for idx in range(len(chunk_list)):\n",
    "    ids.append(f'{idx}')"
   ],
   "id": "5dc09c4bd92b9867",
   "outputs": [],
   "execution_count": null
  },
  {
   "metadata": {},
   "cell_type": "code",
   "source": "len(ids)",
   "id": "493a25ef8ba1c49d",
   "outputs": [],
   "execution_count": null
  },
  {
   "metadata": {},
   "cell_type": "code",
   "source": "tax_collection.add(documents=chunk_list, ids=ids)",
   "id": "d2fa63beeb0bd6ab",
   "outputs": [],
   "execution_count": null
  },
  {
   "metadata": {},
   "cell_type": "code",
   "source": "# 4. 유사도 검색",
   "id": "1462446beb0c0b0f",
   "outputs": [],
   "execution_count": null
  },
  {
   "metadata": {},
   "cell_type": "code",
   "source": [
    "query = '연봉 5천만원인 직장인의 소득세는 얼마인가요?'\n",
    "retrieved_doc = tax_collection.query(query_texts=query, n_results=3)"
   ],
   "id": "1fd1be2f3b33479d",
   "outputs": [],
   "execution_count": null
  },
  {
   "metadata": {},
   "cell_type": "code",
   "source": "retrieved_doc['documents']",
   "id": "e5c5293cbf4967e8",
   "outputs": [],
   "execution_count": null
  },
  {
   "metadata": {},
   "cell_type": "code",
   "source": "# 5. 질의 (https://platform.openai.com/docs/guides/chat-completions)",
   "id": "bd156795de164a4b",
   "outputs": [],
   "execution_count": null
  },
  {
   "metadata": {},
   "cell_type": "code",
   "source": [
    "from openai import OpenAI\n",
    "client = OpenAI()\n",
    "\n",
    "response = client.chat.completions.create(\n",
    "    model=\"gpt-4o\",\n",
    "    messages=[\n",
    "        {\"role\": \"system\", \"content\": \"당신은 한국의 소득세 전문가입니다. 아래 내용을 참고해서 질문에 답변해주세요\"},\n",
    "        {\"role\": \"user\", \"content\": query}\n",
    "    ]\n",
    ")"
   ],
   "id": "3bcd1b3639c4dce8",
   "outputs": [],
   "execution_count": null
  },
  {
   "metadata": {},
   "cell_type": "code",
   "source": "response.choices[0].message.content",
   "id": "c90ff9e71fda679d",
   "outputs": [],
   "execution_count": null
  },
  {
   "metadata": {},
   "cell_type": "code",
   "source": "",
   "id": "1afe9251a9d7d7e4",
   "outputs": [],
   "execution_count": null
  }
 ],
 "metadata": {
  "kernelspec": {
   "display_name": "Python 3",
   "language": "python",
   "name": "python3"
  },
  "language_info": {
   "codemirror_mode": {
    "name": "ipython",
    "version": 2
   },
   "file_extension": ".py",
   "mimetype": "text/x-python",
   "name": "python",
   "nbconvert_exporter": "python",
   "pygments_lexer": "ipython2",
   "version": "2.7.6"
  }
 },
 "nbformat": 4,
 "nbformat_minor": 5
}
