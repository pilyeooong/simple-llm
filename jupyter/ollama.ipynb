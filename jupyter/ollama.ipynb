{
 "cells": [
  {
   "cell_type": "code",
   "id": "initial_id",
   "metadata": {
    "collapsed": true,
    "ExecuteTime": {
     "end_time": "2024-07-16T09:40:40.430368Z",
     "start_time": "2024-07-16T09:40:39.763811Z"
    }
   },
   "source": [
    "from langchain_community.chat_models import ChatOllama\n",
    "\n",
    "llm = ChatOllama(model=\"llama3\")"
   ],
   "outputs": [],
   "execution_count": 1
  },
  {
   "metadata": {
    "ExecuteTime": {
     "end_time": "2024-07-16T09:42:42.949028Z",
     "start_time": "2024-07-16T09:41:01.746247Z"
    }
   },
   "cell_type": "code",
   "source": "llm.invoke(\"네이버는 어떤 기업이야\")",
   "id": "a66ee8c2bebd081c",
   "outputs": [
    {
     "data": {
      "text/plain": [
       "AIMessage(content='Naver is a South Korean internet company that was founded in 1999 by Pohang University of Science and Technology (POSTECH) students. Naver is often referred to as the \"Google of Korea\" because it is the leading search engine and online platform in South Korea.\\n\\nHere are some key facts about Naver:\\n\\n1. **Search Engine**: Naver\\'s search engine is the most popular in Korea, with over 80% market share.\\n2. **Online Platform**: Naver offers a wide range of services, including email, maps, news, shopping, and more.\\n3. **Business Model**: Naver generates revenue primarily through advertising, with a focus on sponsored search results and display ads.\\n4. **Global Expansion**: Although Naver is headquartered in Korea, it has expanded globally, with offices in Singapore, Japan, China, and other countries.\\n5. **Artificial Intelligence (AI) Research**: Naver has invested heavily in AI research and development, with a focus on natural language processing, machine learning, and computer vision.\\n6. **Innovation**: Naver has developed several innovative technologies, including its proprietary search algorithm and a chatbot-powered customer service platform called \"Naver Smart Assistant.\"\\n7. **Employment**: Naver has around 15,000 employees worldwide, with a strong focus on innovation and R&D.\\n\\nSome of the key services offered by Naver include:\\n\\n1. **Search Engine** (www.naver.com): A search engine that provides relevant results based on user queries.\\n2. **Naver Mail** (mail.naver.com): An email service with over 20 million users in Korea.\\n3. **Naver Maps** (maps.naver.com): A mapping service that provides directions, traffic information, and more.\\n4. **Naver Shopping** (shopping.naver.com): An e-commerce platform that allows users to shop online.\\n5. **Line**: A popular messaging app developed by Naver\\'s subsidiary, Line Corporation.\\n\\nOverall, Naver is a leading internet company in Korea, known for its innovative technologies, robust search engine, and wide range of services.', response_metadata={'model': 'llama3', 'created_at': '2024-07-16T09:42:42.935919Z', 'message': {'role': 'assistant', 'content': ''}, 'done_reason': 'stop', 'done': True, 'total_duration': 101137989940, 'load_duration': 10929503746, 'prompt_eval_count': 16, 'prompt_eval_duration': 1061655000, 'eval_count': 431, 'eval_duration': 89140661000}, id='run-9253c386-c3cf-4c02-bca7-ff767a69f2a3-0')"
      ]
     },
     "execution_count": 2,
     "metadata": {},
     "output_type": "execute_result"
    }
   ],
   "execution_count": 2
  },
  {
   "metadata": {},
   "cell_type": "code",
   "outputs": [],
   "execution_count": null,
   "source": "",
   "id": "7ef70c170035a855"
  }
 ],
 "metadata": {
  "kernelspec": {
   "display_name": "Python 3",
   "language": "python",
   "name": "python3"
  },
  "language_info": {
   "codemirror_mode": {
    "name": "ipython",
    "version": 2
   },
   "file_extension": ".py",
   "mimetype": "text/x-python",
   "name": "python",
   "nbconvert_exporter": "python",
   "pygments_lexer": "ipython2",
   "version": "2.7.6"
  }
 },
 "nbformat": 4,
 "nbformat_minor": 5
}
